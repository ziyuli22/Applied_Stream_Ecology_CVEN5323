{
 "cells": [
  {
   "cell_type": "markdown",
   "metadata": {},
   "source": [
    "# CVEN5323 Project Data Analysis"
   ]
  },
  {
   "cell_type": "markdown",
   "metadata": {},
   "source": [
    "Load, examine, and clean up the data."
   ]
  },
  {
   "cell_type": "code",
   "execution_count": 1,
   "metadata": {},
   "outputs": [
    {
     "data": {
      "text/html": [
       "<table>\n",
       "<thead><tr><th scope=col>sample_id</th><th scope=col>sample_location</th><th scope=col>location_on_stream</th><th scope=col>sample_time</th><th scope=col>bed_type</th><th scope=col>functional_group</th><th scope=col>count</th></tr></thead>\n",
       "<tbody>\n",
       "\t<tr><td>A1                           </td><td>South Platte below confluence</td><td>right bank                   </td><td>9:24                         </td><td>rocky                        </td><td>midge (gather/collecter)     </td><td>3                            </td></tr>\n",
       "\t<tr><td>A1                           </td><td>South Platte below confluence</td><td>right bank                   </td><td>9:24                         </td><td>rocky                        </td><td>stonefly (shredder)          </td><td>2                            </td></tr>\n",
       "\t<tr><td>A1                           </td><td>South Platte below confluence</td><td>right bank                   </td><td>9:24                         </td><td>rocky                        </td><td>stonefly (predator)          </td><td>5                            </td></tr>\n",
       "\t<tr><td>A1                           </td><td>South Platte below confluence</td><td>right bank                   </td><td>9:24                         </td><td>rocky                        </td><td>mayfly (scraper)             </td><td>5                            </td></tr>\n",
       "\t<tr><td>A1                           </td><td>South Platte below confluence</td><td>right bank                   </td><td>9:24                         </td><td>rocky                        </td><td>mayfly (gather/collecter)    </td><td>1                            </td></tr>\n",
       "\t<tr><td>A1                           </td><td>South Platte below confluence</td><td>right bank                   </td><td>9:24                         </td><td>rocky                        </td><td>mayfly (unknown)             </td><td>1                            </td></tr>\n",
       "</tbody>\n",
       "</table>\n"
      ],
      "text/latex": [
       "\\begin{tabular}{r|lllllll}\n",
       " sample\\_id & sample\\_location & location\\_on\\_stream & sample\\_time & bed\\_type & functional\\_group & count\\\\\n",
       "\\hline\n",
       "\t A1                            & South Platte below confluence & right bank                    & 9:24                          & rocky                         & midge (gather/collecter)      & 3                            \\\\\n",
       "\t A1                            & South Platte below confluence & right bank                    & 9:24                          & rocky                         & stonefly (shredder)           & 2                            \\\\\n",
       "\t A1                            & South Platte below confluence & right bank                    & 9:24                          & rocky                         & stonefly (predator)           & 5                            \\\\\n",
       "\t A1                            & South Platte below confluence & right bank                    & 9:24                          & rocky                         & mayfly (scraper)              & 5                            \\\\\n",
       "\t A1                            & South Platte below confluence & right bank                    & 9:24                          & rocky                         & mayfly (gather/collecter)     & 1                            \\\\\n",
       "\t A1                            & South Platte below confluence & right bank                    & 9:24                          & rocky                         & mayfly (unknown)              & 1                            \\\\\n",
       "\\end{tabular}\n"
      ],
      "text/markdown": [
       "\n",
       "| sample_id | sample_location | location_on_stream | sample_time | bed_type | functional_group | count |\n",
       "|---|---|---|---|---|---|---|\n",
       "| A1                            | South Platte below confluence | right bank                    | 9:24                          | rocky                         | midge (gather/collecter)      | 3                             |\n",
       "| A1                            | South Platte below confluence | right bank                    | 9:24                          | rocky                         | stonefly (shredder)           | 2                             |\n",
       "| A1                            | South Platte below confluence | right bank                    | 9:24                          | rocky                         | stonefly (predator)           | 5                             |\n",
       "| A1                            | South Platte below confluence | right bank                    | 9:24                          | rocky                         | mayfly (scraper)              | 5                             |\n",
       "| A1                            | South Platte below confluence | right bank                    | 9:24                          | rocky                         | mayfly (gather/collecter)     | 1                             |\n",
       "| A1                            | South Platte below confluence | right bank                    | 9:24                          | rocky                         | mayfly (unknown)              | 1                             |\n",
       "\n"
      ],
      "text/plain": [
       "  sample_id sample_location               location_on_stream sample_time\n",
       "1 A1        South Platte below confluence right bank         9:24       \n",
       "2 A1        South Platte below confluence right bank         9:24       \n",
       "3 A1        South Platte below confluence right bank         9:24       \n",
       "4 A1        South Platte below confluence right bank         9:24       \n",
       "5 A1        South Platte below confluence right bank         9:24       \n",
       "6 A1        South Platte below confluence right bank         9:24       \n",
       "  bed_type functional_group          count\n",
       "1 rocky    midge (gather/collecter)  3    \n",
       "2 rocky    stonefly (shredder)       2    \n",
       "3 rocky    stonefly (predator)       5    \n",
       "4 rocky    mayfly (scraper)          5    \n",
       "5 rocky    mayfly (gather/collecter) 1    \n",
       "6 rocky    mayfly (unknown)          1    "
      ]
     },
     "metadata": {},
     "output_type": "display_data"
    }
   ],
   "source": [
    "setwd(\"C:\\\\Users\\\\Ziyu\\\\Documents\\\\College\\\\2021 08-12 Fall\\\\CVEN5323 Stream Ecology\\\\Project\") #set working drive\n",
    "file <- read.csv(\"Data20211023BUGS.csv\")\n",
    "file$X.notes.guesses <- NULL\n",
    "head(file)"
   ]
  },
  {
   "attachments": {
    "image-2.png": {
     "image/png": "[encoded data removed]"
    },
    "image.png": {
     "image/png": "[encoded data removed]"
    }
   },
   "cell_type": "markdown",
   "metadata": {},
   "source": [
    "Calculate Shannon's Diversity Index (H) and Equitability Index (EH) by using the formulas found on this site: http://www.tiem.utk.edu/~gross/bioed/bealsmodules/shannonDI.html\n",
    "\n",
    "![image.png](attachment:image.png)\n",
    "![image-2.png](attachment:image-2.png)\n",
    "\n",
    "Where S is total number of species in the community (richness).\n",
    "\n",
    "We will calculate by each Site A, B, and C."
   ]
  },
  {
   "cell_type": "markdown",
   "metadata": {},
   "source": [
    "## Site A"
   ]
  },
  {
   "cell_type": "markdown",
   "metadata": {},
   "source": [
    "#### Species( include functional groups)\n",
    "Functional groups are counted together with the species."
   ]
  },
  {
   "cell_type": "code",
   "execution_count": 2,
   "metadata": {},
   "outputs": [],
   "source": [
    "df <- data.frame(matrix(ncol = 5, nrow = 3)) #empty 3x3 data frame\n",
    "names(df) <- c(\"Site\",\"H\", \"EH\",\"S\",\"TotN\")\n",
    "df$Site <- c(\"A\", \"B\", \"C\") #name them properly\n",
    "A <- rbind(file[file$sample_id == \"A1\",], file[file$sample_id == \"A2\",]) #samples from A1 and A2"
   ]
  },
  {
   "cell_type": "code",
   "execution_count": 3,
   "metadata": {},
   "outputs": [
    {
     "data": {
      "text/html": [
       "TRUE"
      ],
      "text/latex": [
       "TRUE"
      ],
      "text/markdown": [
       "TRUE"
      ],
      "text/plain": [
       "[1] TRUE"
      ]
     },
     "metadata": {},
     "output_type": "display_data"
    }
   ],
   "source": [
    "SiteA <- data.frame(matrix(ncol = 2, nrow = length(levels(A$functional_group)))) #another empty dataset for bug data for A\n",
    "names(SiteA) <- c(\"Species\",\"count\")\n",
    "SiteA$Species <- levels(A$functional_group) #name out all the species\n",
    "SiteA$count <- 0\n",
    "for (i in 1:nrow(SiteA)){\n",
    "    for (j in 1:nrow(A)){\n",
    "        if (SiteA$Species[i] == A$functional_group[j]){\n",
    "            SiteA$count[i] <- SiteA$count[i] + A$count[j]\n",
    "        }\n",
    "    }\n",
    "} #adding all the same \"species\" together. Probably a better way to do this.\n",
    "SiteA <- SiteA[SiteA$count != 0,] #get rid of the species that were not obsrved\n",
    "sum(A$count) == sum(SiteA$count) #must say \"TRUE\", checking that it compiled correctly"
   ]
  },
  {
   "cell_type": "code",
   "execution_count": 4,
   "metadata": {
    "scrolled": true
   },
   "outputs": [
    {
     "data": {
      "text/html": [
       "<table>\n",
       "<thead><tr><th></th><th scope=col>Species</th><th scope=col>count</th><th scope=col>p</th></tr></thead>\n",
       "<tbody>\n",
       "\t<tr><th scope=row>2</th><td>mayfly (gather/collecter)</td><td>32                       </td><td>0.278260870              </td></tr>\n",
       "\t<tr><th scope=row>3</th><td>mayfly (scraper)         </td><td>15                       </td><td>0.130434783              </td></tr>\n",
       "\t<tr><th scope=row>5</th><td>mayfly (unknown)         </td><td> 1                       </td><td>0.008695652              </td></tr>\n",
       "\t<tr><th scope=row>6</th><td>midge (gather/collecter) </td><td> 3                       </td><td>0.026086957              </td></tr>\n",
       "\t<tr><th scope=row>8</th><td>shrimpy                  </td><td> 1                       </td><td>0.008695652              </td></tr>\n",
       "\t<tr><th scope=row>12</th><td>stonefly (predator)      </td><td>11                       </td><td>0.095652174              </td></tr>\n",
       "</tbody>\n",
       "</table>\n"
      ],
      "text/latex": [
       "\\begin{tabular}{r|lll}\n",
       "  & Species & count & p\\\\\n",
       "\\hline\n",
       "\t2 & mayfly (gather/collecter) & 32                        & 0.278260870              \\\\\n",
       "\t3 & mayfly (scraper)          & 15                        & 0.130434783              \\\\\n",
       "\t5 & mayfly (unknown)          &  1                        & 0.008695652              \\\\\n",
       "\t6 & midge (gather/collecter)  &  3                        & 0.026086957              \\\\\n",
       "\t8 & shrimpy                   &  1                        & 0.008695652              \\\\\n",
       "\t12 & stonefly (predator)       & 11                        & 0.095652174              \\\\\n",
       "\\end{tabular}\n"
      ],
      "text/markdown": [
       "\n",
       "| <!--/--> | Species | count | p |\n",
       "|---|---|---|---|\n",
       "| 2 | mayfly (gather/collecter) | 32                        | 0.278260870               |\n",
       "| 3 | mayfly (scraper)          | 15                        | 0.130434783               |\n",
       "| 5 | mayfly (unknown)          |  1                        | 0.008695652               |\n",
       "| 6 | midge (gather/collecter)  |  3                        | 0.026086957               |\n",
       "| 8 | shrimpy                   |  1                        | 0.008695652               |\n",
       "| 12 | stonefly (predator)       | 11                        | 0.095652174               |\n",
       "\n"
      ],
      "text/plain": [
       "   Species                   count p          \n",
       "2  mayfly (gather/collecter) 32    0.278260870\n",
       "3  mayfly (scraper)          15    0.130434783\n",
       "5  mayfly (unknown)           1    0.008695652\n",
       "6  midge (gather/collecter)   3    0.026086957\n",
       "8  shrimpy                    1    0.008695652\n",
       "12 stonefly (predator)       11    0.095652174"
      ]
     },
     "metadata": {},
     "output_type": "display_data"
    }
   ],
   "source": [
    "SiteA$p <- SiteA$count/sum(SiteA$count) #calculating proportions of each \"species\"\n",
    "head(SiteA) #make sure it checks out"
   ]
  },
  {
   "cell_type": "code",
   "execution_count": 5,
   "metadata": {},
   "outputs": [
    {
     "data": {
      "text/html": [
       "1.77816867148039"
      ],
      "text/latex": [
       "1.77816867148039"
      ],
      "text/markdown": [
       "1.77816867148039"
      ],
      "text/plain": [
       "[1] 1.778169"
      ]
     },
     "metadata": {},
     "output_type": "display_data"
    },
    {
     "data": {
      "text/html": [
       "0.715587714988043"
      ],
      "text/latex": [
       "0.715587714988043"
      ],
      "text/markdown": [
       "0.715587714988043"
      ],
      "text/plain": [
       "[1] 0.7155877"
      ]
     },
     "metadata": {},
     "output_type": "display_data"
    },
    {
     "data": {
      "text/html": [
       "12"
      ],
      "text/latex": [
       "12"
      ],
      "text/markdown": [
       "12"
      ],
      "text/plain": [
       "[1] 12"
      ]
     },
     "metadata": {},
     "output_type": "display_data"
    },
    {
     "data": {
      "text/html": [
       "115"
      ],
      "text/latex": [
       "115"
      ],
      "text/markdown": [
       "115"
      ],
      "text/plain": [
       "[1] 115"
      ]
     },
     "metadata": {},
     "output_type": "display_data"
    }
   ],
   "source": [
    "HA <- -sum(SiteA$p * log(SiteA$p)) #diversity index\n",
    "EHA <- HA/log(nrow(SiteA)) #Eveness\n",
    "MasterF <- df\n",
    "MasterF[1,2:5] <- c(HA, EHA , nrow(SiteA), sum(SiteA$count))\n",
    "HA; EHA; nrow(SiteA); sum(SiteA$count)"
   ]
  },
  {
   "cell_type": "code",
   "execution_count": 6,
   "metadata": {},
   "outputs": [
    {
     "data": {
      "text/html": [
       "<table>\n",
       "<thead><tr><th scope=col>Site</th><th scope=col>H</th><th scope=col>EH</th><th scope=col>S</th><th scope=col>TotN</th></tr></thead>\n",
       "<tbody>\n",
       "\t<tr><td>A        </td><td>1.778169 </td><td>0.7155877</td><td>12       </td><td>115      </td></tr>\n",
       "\t<tr><td>B        </td><td>      NA </td><td>       NA</td><td>NA       </td><td> NA      </td></tr>\n",
       "\t<tr><td>C        </td><td>      NA </td><td>       NA</td><td>NA       </td><td> NA      </td></tr>\n",
       "</tbody>\n",
       "</table>\n"
      ],
      "text/latex": [
       "\\begin{tabular}{r|lllll}\n",
       " Site & H & EH & S & TotN\\\\\n",
       "\\hline\n",
       "\t A         & 1.778169  & 0.7155877 & 12        & 115      \\\\\n",
       "\t B         &       NA  &        NA & NA        &  NA      \\\\\n",
       "\t C         &       NA  &        NA & NA        &  NA      \\\\\n",
       "\\end{tabular}\n"
      ],
      "text/markdown": [
       "\n",
       "| Site | H | EH | S | TotN |\n",
       "|---|---|---|---|---|\n",
       "| A         | 1.778169  | 0.7155877 | 12        | 115       |\n",
       "| B         |       NA  |        NA | NA        |  NA       |\n",
       "| C         |       NA  |        NA | NA        |  NA       |\n",
       "\n"
      ],
      "text/plain": [
       "  Site H        EH        S  TotN\n",
       "1 A    1.778169 0.7155877 12 115 \n",
       "2 B          NA        NA NA  NA \n",
       "3 C          NA        NA NA  NA "
      ]
     },
     "metadata": {},
     "output_type": "display_data"
    }
   ],
   "source": [
    "MasterF"
   ]
  },
  {
   "cell_type": "markdown",
   "metadata": {},
   "source": [
    "The Shannon's Diversity Index (H) is 1.778; The eveness is 0.715; The richness (S) is 12. Total number of bugs is 115, over 2 ${ft}^2$ of area."
   ]
  },
  {
   "cell_type": "code",
   "execution_count": 7,
   "metadata": {},
   "outputs": [
    {
     "data": {
      "text/html": [
       "<table>\n",
       "<thead><tr><th></th><th scope=col>Species</th><th scope=col>count</th><th scope=col>p</th></tr></thead>\n",
       "<tbody>\n",
       "\t<tr><th scope=row>2</th><td>mayfly (gather/collecter)</td><td>32                       </td><td>0.278260870              </td></tr>\n",
       "\t<tr><th scope=row>3</th><td>mayfly (scraper)         </td><td>15                       </td><td>0.130434783              </td></tr>\n",
       "\t<tr><th scope=row>5</th><td>mayfly (unknown)         </td><td> 1                       </td><td>0.008695652              </td></tr>\n",
       "\t<tr><th scope=row>6</th><td>midge (gather/collecter) </td><td> 3                       </td><td>0.026086957              </td></tr>\n",
       "\t<tr><th scope=row>8</th><td>shrimpy                  </td><td> 1                       </td><td>0.008695652              </td></tr>\n",
       "\t<tr><th scope=row>12</th><td>stonefly (predator)      </td><td>11                       </td><td>0.095652174              </td></tr>\n",
       "\t<tr><th scope=row>13</th><td>stonefly (shredder)      </td><td>11                       </td><td>0.095652174              </td></tr>\n",
       "\t<tr><th scope=row>14</th><td>stonefly (unknown)       </td><td> 1                       </td><td>0.008695652              </td></tr>\n",
       "\t<tr><th scope=row>15</th><td>unknown #1               </td><td> 1                       </td><td>0.008695652              </td></tr>\n",
       "\t<tr><th scope=row>16</th><td>unknown #2               </td><td> 1                       </td><td>0.008695652              </td></tr>\n",
       "\t<tr><th scope=row>17</th><td>unknown #3               </td><td> 1                       </td><td>0.008695652              </td></tr>\n",
       "\t<tr><th scope=row>18</th><td>wigglebutts              </td><td>37                       </td><td>0.321739130              </td></tr>\n",
       "</tbody>\n",
       "</table>\n"
      ],
      "text/latex": [
       "\\begin{tabular}{r|lll}\n",
       "  & Species & count & p\\\\\n",
       "\\hline\n",
       "\t2 & mayfly (gather/collecter) & 32                        & 0.278260870              \\\\\n",
       "\t3 & mayfly (scraper)          & 15                        & 0.130434783              \\\\\n",
       "\t5 & mayfly (unknown)          &  1                        & 0.008695652              \\\\\n",
       "\t6 & midge (gather/collecter)  &  3                        & 0.026086957              \\\\\n",
       "\t8 & shrimpy                   &  1                        & 0.008695652              \\\\\n",
       "\t12 & stonefly (predator)       & 11                        & 0.095652174              \\\\\n",
       "\t13 & stonefly (shredder)       & 11                        & 0.095652174              \\\\\n",
       "\t14 & stonefly (unknown)        &  1                        & 0.008695652              \\\\\n",
       "\t15 & unknown \\#1                &  1                          & 0.008695652                \\\\\n",
       "\t16 & unknown \\#2                &  1                          & 0.008695652                \\\\\n",
       "\t17 & unknown \\#3                &  1                          & 0.008695652                \\\\\n",
       "\t18 & wigglebutts               & 37                        & 0.321739130              \\\\\n",
       "\\end{tabular}\n"
      ],
      "text/markdown": [
       "\n",
       "| <!--/--> | Species | count | p |\n",
       "|---|---|---|---|\n",
       "| 2 | mayfly (gather/collecter) | 32                        | 0.278260870               |\n",
       "| 3 | mayfly (scraper)          | 15                        | 0.130434783               |\n",
       "| 5 | mayfly (unknown)          |  1                        | 0.008695652               |\n",
       "| 6 | midge (gather/collecter)  |  3                        | 0.026086957               |\n",
       "| 8 | shrimpy                   |  1                        | 0.008695652               |\n",
       "| 12 | stonefly (predator)       | 11                        | 0.095652174               |\n",
       "| 13 | stonefly (shredder)       | 11                        | 0.095652174               |\n",
       "| 14 | stonefly (unknown)        |  1                        | 0.008695652               |\n",
       "| 15 | unknown #1                |  1                        | 0.008695652               |\n",
       "| 16 | unknown #2                |  1                        | 0.008695652               |\n",
       "| 17 | unknown #3                |  1                        | 0.008695652               |\n",
       "| 18 | wigglebutts               | 37                        | 0.321739130               |\n",
       "\n"
      ],
      "text/plain": [
       "   Species                   count p          \n",
       "2  mayfly (gather/collecter) 32    0.278260870\n",
       "3  mayfly (scraper)          15    0.130434783\n",
       "5  mayfly (unknown)           1    0.008695652\n",
       "6  midge (gather/collecter)   3    0.026086957\n",
       "8  shrimpy                    1    0.008695652\n",
       "12 stonefly (predator)       11    0.095652174\n",
       "13 stonefly (shredder)       11    0.095652174\n",
       "14 stonefly (unknown)         1    0.008695652\n",
       "15 unknown #1                 1    0.008695652\n",
       "16 unknown #2                 1    0.008695652\n",
       "17 unknown #3                 1    0.008695652\n",
       "18 wigglebutts               37    0.321739130"
      ]
     },
     "metadata": {},
     "output_type": "display_data"
    }
   ],
   "source": [
    "SiteA"
   ]
  },
  {
   "cell_type": "markdown",
   "metadata": {},
   "source": [
    "#### Species not including functional groups"
   ]
  },
  {
   "cell_type": "code",
   "execution_count": 8,
   "metadata": {},
   "outputs": [
    {
     "data": {
      "text/html": [
       "<table>\n",
       "<thead><tr><th scope=col>Species</th><th scope=col>count</th></tr></thead>\n",
       "<tbody>\n",
       "\t<tr><td>mayfly     </td><td>48         </td></tr>\n",
       "\t<tr><td>midget     </td><td> 3         </td></tr>\n",
       "\t<tr><td>shrimpy    </td><td> 1         </td></tr>\n",
       "\t<tr><td>stonefly   </td><td>23         </td></tr>\n",
       "\t<tr><td>unknown #1 </td><td> 1         </td></tr>\n",
       "\t<tr><td>unknown #2 </td><td> 1         </td></tr>\n",
       "\t<tr><td>unknown #3 </td><td> 1         </td></tr>\n",
       "\t<tr><td>wigglebutts</td><td>37         </td></tr>\n",
       "</tbody>\n",
       "</table>\n"
      ],
      "text/latex": [
       "\\begin{tabular}{r|ll}\n",
       " Species & count\\\\\n",
       "\\hline\n",
       "\t mayfly      & 48         \\\\\n",
       "\t midget      &  3         \\\\\n",
       "\t shrimpy     &  1         \\\\\n",
       "\t stonefly    & 23         \\\\\n",
       "\t unknown \\#1  &  1           \\\\\n",
       "\t unknown \\#2  &  1           \\\\\n",
       "\t unknown \\#3  &  1           \\\\\n",
       "\t wigglebutts & 37         \\\\\n",
       "\\end{tabular}\n"
      ],
      "text/markdown": [
       "\n",
       "| Species | count |\n",
       "|---|---|\n",
       "| mayfly      | 48          |\n",
       "| midget      |  3          |\n",
       "| shrimpy     |  1          |\n",
       "| stonefly    | 23          |\n",
       "| unknown #1  |  1          |\n",
       "| unknown #2  |  1          |\n",
       "| unknown #3  |  1          |\n",
       "| wigglebutts | 37          |\n",
       "\n"
      ],
      "text/plain": [
       "  Species     count\n",
       "1 mayfly      48   \n",
       "2 midget       3   \n",
       "3 shrimpy      1   \n",
       "4 stonefly    23   \n",
       "5 unknown #1   1   \n",
       "6 unknown #2   1   \n",
       "7 unknown #3   1   \n",
       "8 wigglebutts 37   "
      ]
     },
     "metadata": {},
     "output_type": "display_data"
    },
    {
     "data": {
      "text/html": [
       "TRUE"
      ],
      "text/latex": [
       "TRUE"
      ],
      "text/markdown": [
       "TRUE"
      ],
      "text/plain": [
       "[1] TRUE"
      ]
     },
     "metadata": {},
     "output_type": "display_data"
    }
   ],
   "source": [
    "Site_A <- data.frame(matrix(ncol = 2, nrow = 8))\n",
    "names(Site_A) <- c(\"Species\",\"count\")\n",
    "Site_A$Species <- c(\"mayfly\",\"midget\",\"shrimpy\",\"stonefly\",\"unknown #1\",\"unknown #2\",\"unknown #3\",\"wigglebutts\")\n",
    "Site_A$count <- c(sum(SiteA$count[1:3]),SiteA$count[4:5],sum(SiteA$count[6:8]),SiteA$count[9:12]) #compile mayfly/stonefly\n",
    "Site_A #looks good\n",
    "sum(Site_A$count) == sum(SiteA$count) #must be TRUE, check everything works out"
   ]
  },
  {
   "cell_type": "code",
   "execution_count": 9,
   "metadata": {},
   "outputs": [
    {
     "data": {
      "text/html": [
       "TRUE"
      ],
      "text/latex": [
       "TRUE"
      ],
      "text/markdown": [
       "TRUE"
      ],
      "text/plain": [
       "[1] TRUE"
      ]
     },
     "metadata": {},
     "output_type": "display_data"
    },
    {
     "data": {
      "text/html": [
       "1.31159460554769"
      ],
      "text/latex": [
       "1.31159460554769"
      ],
      "text/markdown": [
       "1.31159460554769"
      ],
      "text/plain": [
       "[1] 1.311595"
      ]
     },
     "metadata": {},
     "output_type": "display_data"
    },
    {
     "data": {
      "text/html": [
       "0.630743677693454"
      ],
      "text/latex": [
       "0.630743677693454"
      ],
      "text/markdown": [
       "0.630743677693454"
      ],
      "text/plain": [
       "[1] 0.6307437"
      ]
     },
     "metadata": {},
     "output_type": "display_data"
    },
    {
     "data": {
      "text/html": [
       "8"
      ],
      "text/latex": [
       "8"
      ],
      "text/markdown": [
       "8"
      ],
      "text/plain": [
       "[1] 8"
      ]
     },
     "metadata": {},
     "output_type": "display_data"
    },
    {
     "data": {
      "text/html": [
       "115"
      ],
      "text/latex": [
       "115"
      ],
      "text/markdown": [
       "115"
      ],
      "text/plain": [
       "[1] 115"
      ]
     },
     "metadata": {},
     "output_type": "display_data"
    },
    {
     "data": {
      "text/html": [
       "<table>\n",
       "<thead><tr><th scope=col>Site</th><th scope=col>H</th><th scope=col>EH</th><th scope=col>S</th><th scope=col>TotN</th></tr></thead>\n",
       "<tbody>\n",
       "\t<tr><td>A        </td><td>1.311595 </td><td>0.6307437</td><td> 8       </td><td>115      </td></tr>\n",
       "\t<tr><td>B        </td><td>      NA </td><td>       NA</td><td>NA       </td><td> NA      </td></tr>\n",
       "\t<tr><td>C        </td><td>      NA </td><td>       NA</td><td>NA       </td><td> NA      </td></tr>\n",
       "</tbody>\n",
       "</table>\n"
      ],
      "text/latex": [
       "\\begin{tabular}{r|lllll}\n",
       " Site & H & EH & S & TotN\\\\\n",
       "\\hline\n",
       "\t A         & 1.311595  & 0.6307437 &  8        & 115      \\\\\n",
       "\t B         &       NA  &        NA & NA        &  NA      \\\\\n",
       "\t C         &       NA  &        NA & NA        &  NA      \\\\\n",
       "\\end{tabular}\n"
      ],
      "text/markdown": [
       "\n",
       "| Site | H | EH | S | TotN |\n",
       "|---|---|---|---|---|\n",
       "| A         | 1.311595  | 0.6307437 |  8        | 115       |\n",
       "| B         |       NA  |        NA | NA        |  NA       |\n",
       "| C         |       NA  |        NA | NA        |  NA       |\n",
       "\n"
      ],
      "text/plain": [
       "  Site H        EH        S  TotN\n",
       "1 A    1.311595 0.6307437  8 115 \n",
       "2 B          NA        NA NA  NA \n",
       "3 C          NA        NA NA  NA "
      ]
     },
     "metadata": {},
     "output_type": "display_data"
    }
   ],
   "source": [
    "Site_A$p <- Site_A$count/sum(Site_A$count) \n",
    "sum(Site_A$p) == 1 #this must be true, verifies everything works\n",
    "H_A <- -sum(Site_A$p * log(Site_A$p)) #diversity index\n",
    "EH_A <- H_A/log(nrow(Site_A)) #Eveness\n",
    "Master <- df\n",
    "Master[1,2:5] <- c(H_A, EH_A , nrow(Site_A), sum(Site_A$count)) #store them in a master matrix\n",
    "H_A; EH_A; nrow(Site_A); sum(Site_A$count); Master"
   ]
  },
  {
   "cell_type": "markdown",
   "metadata": {},
   "source": [
    "The Shannon's Diversity Index (H) is 1.312; The eveness is 0.631; The richness (S) is 8. Total number of bugs is 115, over 2 ${ft}^2$ of area."
   ]
  },
  {
   "cell_type": "markdown",
   "metadata": {},
   "source": [
    "## Site B"
   ]
  },
  {
   "cell_type": "markdown",
   "metadata": {},
   "source": [
    "#### Species( include functional groups)\n",
    "Functional groups are counted together with the species."
   ]
  },
  {
   "cell_type": "code",
   "execution_count": 10,
   "metadata": {},
   "outputs": [
    {
     "data": {
      "text/html": [
       "TRUE"
      ],
      "text/latex": [
       "TRUE"
      ],
      "text/markdown": [
       "TRUE"
      ],
      "text/plain": [
       "[1] TRUE"
      ]
     },
     "metadata": {},
     "output_type": "display_data"
    }
   ],
   "source": [
    "B <- rbind(file[file$sample_id == \"B1\",], file[file$sample_id == \"B2\",]) #samples from B1 and B2\n",
    "SiteB <- data.frame(matrix(ncol = 2, nrow = length(levels(B$functional_group)))) #another empty dataset for bug data for B\n",
    "names(SiteB) <- c(\"Species\",\"count\")\n",
    "SiteB$Species <- levels(B$functional_group) #name out all the species\n",
    "SiteB$count <- 0\n",
    "for (i in 1:nrow(SiteB)){\n",
    "    for (j in 1:nrow(B)){\n",
    "        if (SiteB$Species[i] == B$functional_group[j]){\n",
    "            SiteB$count[i] <- SiteB$count[i] + B$count[j]\n",
    "        }\n",
    "    }\n",
    "} #adding all the same \"species\" together. Probably a better way to do this.\n",
    "SiteB <- SiteB[SiteB$count != 0,] #get rid of the species that were not obsrved\n",
    "sum(B$count) == sum(SiteB$count) #must say \"TRUE\", checking that it compiled correctly"
   ]
  },
  {
   "cell_type": "code",
   "execution_count": 11,
   "metadata": {},
   "outputs": [
    {
     "data": {
      "text/html": [
       "1.5198218648536"
      ],
      "text/latex": [
       "1.5198218648536"
      ],
      "text/markdown": [
       "1.5198218648536"
      ],
      "text/plain": [
       "[1] 1.519822"
      ]
     },
     "metadata": {},
     "output_type": "display_data"
    },
    {
     "data": {
      "text/html": [
       "0.691700739437448"
      ],
      "text/latex": [
       "0.691700739437448"
      ],
      "text/markdown": [
       "0.691700739437448"
      ],
      "text/plain": [
       "[1] 0.6917007"
      ]
     },
     "metadata": {},
     "output_type": "display_data"
    },
    {
     "data": {
      "text/html": [
       "9"
      ],
      "text/latex": [
       "9"
      ],
      "text/markdown": [
       "9"
      ],
      "text/plain": [
       "[1] 9"
      ]
     },
     "metadata": {},
     "output_type": "display_data"
    },
    {
     "data": {
      "text/html": [
       "59"
      ],
      "text/latex": [
       "59"
      ],
      "text/markdown": [
       "59"
      ],
      "text/plain": [
       "[1] 59"
      ]
     },
     "metadata": {},
     "output_type": "display_data"
    },
    {
     "data": {
      "text/html": [
       "<table>\n",
       "<thead><tr><th scope=col>Site</th><th scope=col>H</th><th scope=col>EH</th><th scope=col>S</th><th scope=col>TotN</th></tr></thead>\n",
       "<tbody>\n",
       "\t<tr><td>A        </td><td>1.778169 </td><td>0.7155877</td><td>12       </td><td>115      </td></tr>\n",
       "\t<tr><td>B        </td><td>1.519822 </td><td>0.6917007</td><td> 9       </td><td> 59      </td></tr>\n",
       "\t<tr><td>C        </td><td>      NA </td><td>       NA</td><td>NA       </td><td> NA      </td></tr>\n",
       "</tbody>\n",
       "</table>\n"
      ],
      "text/latex": [
       "\\begin{tabular}{r|lllll}\n",
       " Site & H & EH & S & TotN\\\\\n",
       "\\hline\n",
       "\t A         & 1.778169  & 0.7155877 & 12        & 115      \\\\\n",
       "\t B         & 1.519822  & 0.6917007 &  9        &  59      \\\\\n",
       "\t C         &       NA  &        NA & NA        &  NA      \\\\\n",
       "\\end{tabular}\n"
      ],
      "text/markdown": [
       "\n",
       "| Site | H | EH | S | TotN |\n",
       "|---|---|---|---|---|\n",
       "| A         | 1.778169  | 0.7155877 | 12        | 115       |\n",
       "| B         | 1.519822  | 0.6917007 |  9        |  59       |\n",
       "| C         |       NA  |        NA | NA        |  NA       |\n",
       "\n"
      ],
      "text/plain": [
       "  Site H        EH        S  TotN\n",
       "1 A    1.778169 0.7155877 12 115 \n",
       "2 B    1.519822 0.6917007  9  59 \n",
       "3 C          NA        NA NA  NA "
      ]
     },
     "metadata": {},
     "output_type": "display_data"
    }
   ],
   "source": [
    "SiteB$p <- SiteB$count/sum(SiteB$count) #calculating proportions of each \"species\"\n",
    "HB <- -sum(SiteB$p * log(SiteB$p)) #diversity index\n",
    "EHB <- HB/log(nrow(SiteB)) #Eveness\n",
    "MasterF[2,2:5] <- c(HB, EHB , nrow(SiteB), sum(SiteB$count))\n",
    "HB; EHB; nrow(SiteB); sum(SiteB$count)\n",
    "MasterF"
   ]
  },
  {
   "cell_type": "markdown",
   "metadata": {},
   "source": [
    "The Shannon's Diversity Index (H) is 1.520; The eveness is 0.692; The richness (S) is 9. Total number of bugs is 59, over 2 ${ft}^2$ of area."
   ]
  },
  {
   "cell_type": "code",
   "execution_count": 12,
   "metadata": {},
   "outputs": [
    {
     "data": {
      "text/html": [
       "<table>\n",
       "<thead><tr><th></th><th scope=col>Species</th><th scope=col>count</th><th scope=col>p</th></tr></thead>\n",
       "<tbody>\n",
       "\t<tr><th scope=row>2</th><td>mayfly (gather/collecter)</td><td> 1                       </td><td>0.01694915               </td></tr>\n",
       "\t<tr><th scope=row>3</th><td>mayfly (scraper)         </td><td>30                       </td><td>0.50847458               </td></tr>\n",
       "\t<tr><th scope=row>7</th><td>red worm                 </td><td>10                       </td><td>0.16949153               </td></tr>\n",
       "\t<tr><th scope=row>13</th><td>stonefly (shredder)      </td><td> 9                       </td><td>0.15254237               </td></tr>\n",
       "\t<tr><th scope=row>19</th><td>worm 1                   </td><td> 2                       </td><td>0.03389831               </td></tr>\n",
       "\t<tr><th scope=row>20</th><td>worm 2                   </td><td> 1                       </td><td>0.01694915               </td></tr>\n",
       "\t<tr><th scope=row>21</th><td>worm 3                   </td><td> 1                       </td><td>0.01694915               </td></tr>\n",
       "\t<tr><th scope=row>22</th><td>worm 4                   </td><td> 2                       </td><td>0.03389831               </td></tr>\n",
       "\t<tr><th scope=row>23</th><td>worm 5                   </td><td> 3                       </td><td>0.05084746               </td></tr>\n",
       "</tbody>\n",
       "</table>\n"
      ],
      "text/latex": [
       "\\begin{tabular}{r|lll}\n",
       "  & Species & count & p\\\\\n",
       "\\hline\n",
       "\t2 & mayfly (gather/collecter) &  1                        & 0.01694915               \\\\\n",
       "\t3 & mayfly (scraper)          & 30                        & 0.50847458               \\\\\n",
       "\t7 & red worm                  & 10                        & 0.16949153               \\\\\n",
       "\t13 & stonefly (shredder)       &  9                        & 0.15254237               \\\\\n",
       "\t19 & worm 1                    &  2                        & 0.03389831               \\\\\n",
       "\t20 & worm 2                    &  1                        & 0.01694915               \\\\\n",
       "\t21 & worm 3                    &  1                        & 0.01694915               \\\\\n",
       "\t22 & worm 4                    &  2                        & 0.03389831               \\\\\n",
       "\t23 & worm 5                    &  3                        & 0.05084746               \\\\\n",
       "\\end{tabular}\n"
      ],
      "text/markdown": [
       "\n",
       "| <!--/--> | Species | count | p |\n",
       "|---|---|---|---|\n",
       "| 2 | mayfly (gather/collecter) |  1                        | 0.01694915                |\n",
       "| 3 | mayfly (scraper)          | 30                        | 0.50847458                |\n",
       "| 7 | red worm                  | 10                        | 0.16949153                |\n",
       "| 13 | stonefly (shredder)       |  9                        | 0.15254237                |\n",
       "| 19 | worm 1                    |  2                        | 0.03389831                |\n",
       "| 20 | worm 2                    |  1                        | 0.01694915                |\n",
       "| 21 | worm 3                    |  1                        | 0.01694915                |\n",
       "| 22 | worm 4                    |  2                        | 0.03389831                |\n",
       "| 23 | worm 5                    |  3                        | 0.05084746                |\n",
       "\n"
      ],
      "text/plain": [
       "   Species                   count p         \n",
       "2  mayfly (gather/collecter)  1    0.01694915\n",
       "3  mayfly (scraper)          30    0.50847458\n",
       "7  red worm                  10    0.16949153\n",
       "13 stonefly (shredder)        9    0.15254237\n",
       "19 worm 1                     2    0.03389831\n",
       "20 worm 2                     1    0.01694915\n",
       "21 worm 3                     1    0.01694915\n",
       "22 worm 4                     2    0.03389831\n",
       "23 worm 5                     3    0.05084746"
      ]
     },
     "metadata": {},
     "output_type": "display_data"
    }
   ],
   "source": [
    "SiteB"
   ]
  },
  {
   "cell_type": "markdown",
   "metadata": {},
   "source": [
    "#### Species not including functional groups"
   ]
  },
  {
   "cell_type": "code",
   "execution_count": 13,
   "metadata": {},
   "outputs": [
    {
     "data": {
      "text/html": [
       "<table>\n",
       "<thead><tr><th scope=col>Species</th><th scope=col>count</th></tr></thead>\n",
       "<tbody>\n",
       "\t<tr><td>mayfly  </td><td>31      </td></tr>\n",
       "\t<tr><td>red worm</td><td>10      </td></tr>\n",
       "\t<tr><td>stonefly</td><td> 9      </td></tr>\n",
       "\t<tr><td>worm 1  </td><td> 2      </td></tr>\n",
       "\t<tr><td>worm 2  </td><td> 1      </td></tr>\n",
       "\t<tr><td>worm 3  </td><td> 1      </td></tr>\n",
       "\t<tr><td>worm 4  </td><td> 2      </td></tr>\n",
       "\t<tr><td>worm 5  </td><td> 3      </td></tr>\n",
       "</tbody>\n",
       "</table>\n"
      ],
      "text/latex": [
       "\\begin{tabular}{r|ll}\n",
       " Species & count\\\\\n",
       "\\hline\n",
       "\t mayfly   & 31      \\\\\n",
       "\t red worm & 10      \\\\\n",
       "\t stonefly &  9      \\\\\n",
       "\t worm 1   &  2      \\\\\n",
       "\t worm 2   &  1      \\\\\n",
       "\t worm 3   &  1      \\\\\n",
       "\t worm 4   &  2      \\\\\n",
       "\t worm 5   &  3      \\\\\n",
       "\\end{tabular}\n"
      ],
      "text/markdown": [
       "\n",
       "| Species | count |\n",
       "|---|---|\n",
       "| mayfly   | 31       |\n",
       "| red worm | 10       |\n",
       "| stonefly |  9       |\n",
       "| worm 1   |  2       |\n",
       "| worm 2   |  1       |\n",
       "| worm 3   |  1       |\n",
       "| worm 4   |  2       |\n",
       "| worm 5   |  3       |\n",
       "\n"
      ],
      "text/plain": [
       "  Species  count\n",
       "1 mayfly   31   \n",
       "2 red worm 10   \n",
       "3 stonefly  9   \n",
       "4 worm 1    2   \n",
       "5 worm 2    1   \n",
       "6 worm 3    1   \n",
       "7 worm 4    2   \n",
       "8 worm 5    3   "
      ]
     },
     "metadata": {},
     "output_type": "display_data"
    },
    {
     "data": {
      "text/html": [
       "TRUE"
      ],
      "text/latex": [
       "TRUE"
      ],
      "text/markdown": [
       "TRUE"
      ],
      "text/plain": [
       "[1] TRUE"
      ]
     },
     "metadata": {},
     "output_type": "display_data"
    }
   ],
   "source": [
    "Site_B <- data.frame(matrix(ncol = 2, nrow = 8)) #empty matrix\n",
    "names(Site_B) <- c(\"Species\",\"count\")\n",
    "Site_B$Species <- c(\"mayfly\",\"red worm\",\"stonefly\",\"worm 1\",\"worm 2\",\"worm 3\",\"worm 4\",\"worm 5\")\n",
    "Site_B$count <- c(sum(SiteB$count[1:2]),SiteB$count[3:9]) #compile mayfly/stonefly\n",
    "Site_B #looks good\n",
    "sum(Site_B$count) == sum(SiteB$count) #must be TRUE, check everything works out"
   ]
  },
  {
   "cell_type": "code",
   "execution_count": 14,
   "metadata": {},
   "outputs": [
    {
     "data": {
      "text/html": [
       "1.44494590063029"
      ],
      "text/latex": [
       "1.44494590063029"
      ],
      "text/markdown": [
       "1.44494590063029"
      ],
      "text/plain": [
       "[1] 1.444946"
      ]
     },
     "metadata": {},
     "output_type": "display_data"
    },
    {
     "data": {
      "text/html": [
       "0.694872095064054"
      ],
      "text/latex": [
       "0.694872095064054"
      ],
      "text/markdown": [
       "0.694872095064054"
      ],
      "text/plain": [
       "[1] 0.6948721"
      ]
     },
     "metadata": {},
     "output_type": "display_data"
    },
    {
     "data": {
      "text/html": [
       "8"
      ],
      "text/latex": [
       "8"
      ],
      "text/markdown": [
       "8"
      ],
      "text/plain": [
       "[1] 8"
      ]
     },
     "metadata": {},
     "output_type": "display_data"
    },
    {
     "data": {
      "text/html": [
       "59"
      ],
      "text/latex": [
       "59"
      ],
      "text/markdown": [
       "59"
      ],
      "text/plain": [
       "[1] 59"
      ]
     },
     "metadata": {},
     "output_type": "display_data"
    },
    {
     "data": {
      "text/html": [
       "<table>\n",
       "<thead><tr><th scope=col>Site</th><th scope=col>H</th><th scope=col>EH</th><th scope=col>S</th><th scope=col>TotN</th></tr></thead>\n",
       "<tbody>\n",
       "\t<tr><td>A        </td><td>1.311595 </td><td>0.6307437</td><td> 8       </td><td>115      </td></tr>\n",
       "\t<tr><td>B        </td><td>1.444946 </td><td>0.6948721</td><td> 8       </td><td> 59      </td></tr>\n",
       "\t<tr><td>C        </td><td>      NA </td><td>       NA</td><td>NA       </td><td> NA      </td></tr>\n",
       "</tbody>\n",
       "</table>\n"
      ],
      "text/latex": [
       "\\begin{tabular}{r|lllll}\n",
       " Site & H & EH & S & TotN\\\\\n",
       "\\hline\n",
       "\t A         & 1.311595  & 0.6307437 &  8        & 115      \\\\\n",
       "\t B         & 1.444946  & 0.6948721 &  8        &  59      \\\\\n",
       "\t C         &       NA  &        NA & NA        &  NA      \\\\\n",
       "\\end{tabular}\n"
      ],
      "text/markdown": [
       "\n",
       "| Site | H | EH | S | TotN |\n",
       "|---|---|---|---|---|\n",
       "| A         | 1.311595  | 0.6307437 |  8        | 115       |\n",
       "| B         | 1.444946  | 0.6948721 |  8        |  59       |\n",
       "| C         |       NA  |        NA | NA        |  NA       |\n",
       "\n"
      ],
      "text/plain": [
       "  Site H        EH        S  TotN\n",
       "1 A    1.311595 0.6307437  8 115 \n",
       "2 B    1.444946 0.6948721  8  59 \n",
       "3 C          NA        NA NA  NA "
      ]
     },
     "metadata": {},
     "output_type": "display_data"
    }
   ],
   "source": [
    "Site_B$p <- Site_B$count/sum(Site_B$count) #calculating proportions of each \"species\"\n",
    "H_B <- -sum(Site_B$p * log(Site_B$p)) #diversity index\n",
    "EH_B <- H_B/log(nrow(Site_B)) #Eveness\n",
    "H_B; EH_B; nrow(Site_B); sum(Site_B$count)\n",
    "Master[2,2:5] <- c(H_B, EH_B , nrow(Site_B), sum(Site_B$count))\n",
    "Master"
   ]
  },
  {
   "cell_type": "markdown",
   "metadata": {},
   "source": [
    "The Shannon's Diversity Index (H) is 1.445; The eveness is 0.695; The richness (S) is 8. Total number of bugs is 59, over 2 ${ft}^2$ of area."
   ]
  },
  {
   "cell_type": "markdown",
   "metadata": {},
   "source": [
    "## Site C"
   ]
  },
  {
   "cell_type": "markdown",
   "metadata": {},
   "source": [
    "#### Species( include functional groups)\n",
    "Functional groups are counted together with the species."
   ]
  },
  {
   "cell_type": "code",
   "execution_count": 15,
   "metadata": {
    "scrolled": false
   },
   "outputs": [
    {
     "data": {
      "text/html": [
       "TRUE"
      ],
      "text/latex": [
       "TRUE"
      ],
      "text/markdown": [
       "TRUE"
      ],
      "text/plain": [
       "[1] TRUE"
      ]
     },
     "metadata": {},
     "output_type": "display_data"
    },
    {
     "data": {
      "text/html": [
       "<table>\n",
       "<thead><tr><th></th><th scope=col>sample_id</th><th scope=col>sample_location</th><th scope=col>location_on_stream</th><th scope=col>sample_time</th><th scope=col>bed_type</th><th scope=col>functional_group</th><th scope=col>count</th></tr></thead>\n",
       "<tbody>\n",
       "\t<tr><th scope=row>29</th><td>C1                       </td><td>Cherry Creek             </td><td>left bank                </td><td>1:50                     </td><td>silty loam               </td><td>mayfly (gather/collecter)</td><td>45                       </td></tr>\n",
       "\t<tr><th scope=row>30</th><td>C1                       </td><td>Cherry Creek             </td><td>left bank                </td><td>1:50                     </td><td>silty loam               </td><td>stonefly                 </td><td> 4                       </td></tr>\n",
       "\t<tr><th scope=row>31</th><td>C1                       </td><td>Cherry Creek             </td><td>left bank                </td><td>1:50                     </td><td>silty loam               </td><td>mayfly (scrapers)        </td><td> 3                       </td></tr>\n",
       "\t<tr><th scope=row>32</th><td>C1                       </td><td>Cherry Creek             </td><td>left bank                </td><td>1:50                     </td><td>silty loam               </td><td>long red worm            </td><td> 1                       </td></tr>\n",
       "\t<tr><th scope=row>33</th><td>C1                       </td><td>Cherry Creek             </td><td>left bank                </td><td>1:50                     </td><td>silty loam               </td><td>small grey worm          </td><td> 1                       </td></tr>\n",
       "\t<tr><th scope=row>34</th><td>C2                       </td><td>Cherry Creek             </td><td>center                   </td><td>2:50                     </td><td>silty loam               </td><td>mayfly (gather/collecter)</td><td>40                       </td></tr>\n",
       "\t<tr><th scope=row>35</th><td>C2                       </td><td>Cherry Creek             </td><td>center                   </td><td>2:50                     </td><td>silty loam               </td><td>mayfly (scraper)         </td><td> 9                       </td></tr>\n",
       "\t<tr><th scope=row>36</th><td>C2                       </td><td>Cherry Creek             </td><td>center                   </td><td>2:50                     </td><td>silty loam               </td><td>stonefly                 </td><td> 9                       </td></tr>\n",
       "</tbody>\n",
       "</table>\n"
      ],
      "text/latex": [
       "\\begin{tabular}{r|lllllll}\n",
       "  & sample\\_id & sample\\_location & location\\_on\\_stream & sample\\_time & bed\\_type & functional\\_group & count\\\\\n",
       "\\hline\n",
       "\t29 & C1                        & Cherry Creek              & left bank                 & 1:50                      & silty loam                & mayfly (gather/collecter) & 45                       \\\\\n",
       "\t30 & C1                        & Cherry Creek              & left bank                 & 1:50                      & silty loam                & stonefly                  &  4                       \\\\\n",
       "\t31 & C1                        & Cherry Creek              & left bank                 & 1:50                      & silty loam                & mayfly (scrapers)         &  3                       \\\\\n",
       "\t32 & C1                        & Cherry Creek              & left bank                 & 1:50                      & silty loam                & long red worm             &  1                       \\\\\n",
       "\t33 & C1                        & Cherry Creek              & left bank                 & 1:50                      & silty loam                & small grey worm           &  1                       \\\\\n",
       "\t34 & C2                        & Cherry Creek              & center                    & 2:50                      & silty loam                & mayfly (gather/collecter) & 40                       \\\\\n",
       "\t35 & C2                        & Cherry Creek              & center                    & 2:50                      & silty loam                & mayfly (scraper)          &  9                       \\\\\n",
       "\t36 & C2                        & Cherry Creek              & center                    & 2:50                      & silty loam                & stonefly                  &  9                       \\\\\n",
       "\\end{tabular}\n"
      ],
      "text/markdown": [
       "\n",
       "| <!--/--> | sample_id | sample_location | location_on_stream | sample_time | bed_type | functional_group | count |\n",
       "|---|---|---|---|---|---|---|---|\n",
       "| 29 | C1                        | Cherry Creek              | left bank                 | 1:50                      | silty loam                | mayfly (gather/collecter) | 45                        |\n",
       "| 30 | C1                        | Cherry Creek              | left bank                 | 1:50                      | silty loam                | stonefly                  |  4                        |\n",
       "| 31 | C1                        | Cherry Creek              | left bank                 | 1:50                      | silty loam                | mayfly (scrapers)         |  3                        |\n",
       "| 32 | C1                        | Cherry Creek              | left bank                 | 1:50                      | silty loam                | long red worm             |  1                        |\n",
       "| 33 | C1                        | Cherry Creek              | left bank                 | 1:50                      | silty loam                | small grey worm           |  1                        |\n",
       "| 34 | C2                        | Cherry Creek              | center                    | 2:50                      | silty loam                | mayfly (gather/collecter) | 40                        |\n",
       "| 35 | C2                        | Cherry Creek              | center                    | 2:50                      | silty loam                | mayfly (scraper)          |  9                        |\n",
       "| 36 | C2                        | Cherry Creek              | center                    | 2:50                      | silty loam                | stonefly                  |  9                        |\n",
       "\n"
      ],
      "text/plain": [
       "   sample_id sample_location location_on_stream sample_time bed_type  \n",
       "29 C1        Cherry Creek    left bank          1:50        silty loam\n",
       "30 C1        Cherry Creek    left bank          1:50        silty loam\n",
       "31 C1        Cherry Creek    left bank          1:50        silty loam\n",
       "32 C1        Cherry Creek    left bank          1:50        silty loam\n",
       "33 C1        Cherry Creek    left bank          1:50        silty loam\n",
       "34 C2        Cherry Creek    center             2:50        silty loam\n",
       "35 C2        Cherry Creek    center             2:50        silty loam\n",
       "36 C2        Cherry Creek    center             2:50        silty loam\n",
       "   functional_group          count\n",
       "29 mayfly (gather/collecter) 45   \n",
       "30 stonefly                   4   \n",
       "31 mayfly (scrapers)          3   \n",
       "32 long red worm              1   \n",
       "33 small grey worm            1   \n",
       "34 mayfly (gather/collecter) 40   \n",
       "35 mayfly (scraper)           9   \n",
       "36 stonefly                   9   "
      ]
     },
     "metadata": {},
     "output_type": "display_data"
    },
    {
     "data": {
      "text/html": [
       "<table>\n",
       "<thead><tr><th></th><th scope=col>Species</th><th scope=col>count</th></tr></thead>\n",
       "<tbody>\n",
       "\t<tr><th scope=row>1</th><td>long red worm            </td><td> 1                       </td></tr>\n",
       "\t<tr><th scope=row>2</th><td>mayfly (gather/collecter)</td><td>85                       </td></tr>\n",
       "\t<tr><th scope=row>3</th><td>mayfly (scraper)         </td><td>12                       </td></tr>\n",
       "\t<tr><th scope=row>9</th><td>small grey worm          </td><td> 1                       </td></tr>\n",
       "\t<tr><th scope=row>10</th><td>stonefly                 </td><td>13                       </td></tr>\n",
       "</tbody>\n",
       "</table>\n"
      ],
      "text/latex": [
       "\\begin{tabular}{r|ll}\n",
       "  & Species & count\\\\\n",
       "\\hline\n",
       "\t1 & long red worm             &  1                       \\\\\n",
       "\t2 & mayfly (gather/collecter) & 85                       \\\\\n",
       "\t3 & mayfly (scraper)          & 12                       \\\\\n",
       "\t9 & small grey worm           &  1                       \\\\\n",
       "\t10 & stonefly                  & 13                       \\\\\n",
       "\\end{tabular}\n"
      ],
      "text/markdown": [
       "\n",
       "| <!--/--> | Species | count |\n",
       "|---|---|---|\n",
       "| 1 | long red worm             |  1                        |\n",
       "| 2 | mayfly (gather/collecter) | 85                        |\n",
       "| 3 | mayfly (scraper)          | 12                        |\n",
       "| 9 | small grey worm           |  1                        |\n",
       "| 10 | stonefly                  | 13                        |\n",
       "\n"
      ],
      "text/plain": [
       "   Species                   count\n",
       "1  long red worm              1   \n",
       "2  mayfly (gather/collecter) 85   \n",
       "3  mayfly (scraper)          12   \n",
       "9  small grey worm            1   \n",
       "10 stonefly                  13   "
      ]
     },
     "metadata": {},
     "output_type": "display_data"
    }
   ],
   "source": [
    "C <- rbind(file[file$sample_id == \"C1\",], file[file$sample_id == \"C2\",]) #samples from C1 and C2\n",
    "SiteC <- data.frame(matrix(ncol = 2, nrow = length(levels(C$functional_group)))) #another empty dataset for bug data for C\n",
    "names(SiteC) <- c(\"Species\",\"count\")\n",
    "SiteC$Species <- levels(C$functional_group) #name out all the species\n",
    "SiteC$count <- 0\n",
    "for (i in 1:nrow(SiteC)){\n",
    "    for (j in 1:nrow(C)){\n",
    "        if (SiteC$Species[i] == C$functional_group[j]){\n",
    "            SiteC$count[i] <- SiteC$count[i] + C$count[j]\n",
    "        }\n",
    "    }\n",
    "} #adding all the same \"species\" together. Probably a better way to do this.\n",
    "SiteC <- SiteC[SiteC$count != 0,] #get rid of the species that were not obsrved\n",
    "sum(C$count) == sum(SiteC$count) #must say \"TRUE\", checking that it compiled correctly\n",
    "C\n",
    "SiteC$count[6] <- sum(SiteC$count[6:7])#last stonefly did not compile for some reason, fix that\n",
    "SiteC$count[3] <- sum(SiteC$count[3:4])\n",
    "SiteC <- rbind(SiteC[1:3,],SiteC[5:6,])\n",
    "SiteC #now it looks good"
   ]
  },
  {
   "cell_type": "code",
   "execution_count": 16,
   "metadata": {
    "scrolled": true
   },
   "outputs": [
    {
     "data": {
      "text/html": [
       "0.782886565526051"
      ],
      "text/latex": [
       "0.782886565526051"
      ],
      "text/markdown": [
       "0.782886565526051"
      ],
      "text/plain": [
       "[1] 0.7828866"
      ]
     },
     "metadata": {},
     "output_type": "display_data"
    },
    {
     "data": {
      "text/html": [
       "0.486434772958728"
      ],
      "text/latex": [
       "0.486434772958728"
      ],
      "text/markdown": [
       "0.486434772958728"
      ],
      "text/plain": [
       "[1] 0.4864348"
      ]
     },
     "metadata": {},
     "output_type": "display_data"
    },
    {
     "data": {
      "text/html": [
       "5"
      ],
      "text/latex": [
       "5"
      ],
      "text/markdown": [
       "5"
      ],
      "text/plain": [
       "[1] 5"
      ]
     },
     "metadata": {},
     "output_type": "display_data"
    },
    {
     "data": {
      "text/html": [
       "112"
      ],
      "text/latex": [
       "112"
      ],
      "text/markdown": [
       "112"
      ],
      "text/plain": [
       "[1] 112"
      ]
     },
     "metadata": {},
     "output_type": "display_data"
    },
    {
     "data": {
      "text/html": [
       "<table>\n",
       "<thead><tr><th scope=col>Site</th><th scope=col>H</th><th scope=col>EH</th><th scope=col>S</th><th scope=col>TotN</th></tr></thead>\n",
       "<tbody>\n",
       "\t<tr><td>A        </td><td>1.7781687</td><td>0.7155877</td><td>12       </td><td>115      </td></tr>\n",
       "\t<tr><td>B        </td><td>1.5198219</td><td>0.6917007</td><td> 9       </td><td> 59      </td></tr>\n",
       "\t<tr><td>C        </td><td>0.7828866</td><td>0.4864348</td><td> 5       </td><td>112      </td></tr>\n",
       "</tbody>\n",
       "</table>\n"
      ],
      "text/latex": [
       "\\begin{tabular}{r|lllll}\n",
       " Site & H & EH & S & TotN\\\\\n",
       "\\hline\n",
       "\t A         & 1.7781687 & 0.7155877 & 12        & 115      \\\\\n",
       "\t B         & 1.5198219 & 0.6917007 &  9        &  59      \\\\\n",
       "\t C         & 0.7828866 & 0.4864348 &  5        & 112      \\\\\n",
       "\\end{tabular}\n"
      ],
      "text/markdown": [
       "\n",
       "| Site | H | EH | S | TotN |\n",
       "|---|---|---|---|---|\n",
       "| A         | 1.7781687 | 0.7155877 | 12        | 115       |\n",
       "| B         | 1.5198219 | 0.6917007 |  9        |  59       |\n",
       "| C         | 0.7828866 | 0.4864348 |  5        | 112       |\n",
       "\n"
      ],
      "text/plain": [
       "  Site H         EH        S  TotN\n",
       "1 A    1.7781687 0.7155877 12 115 \n",
       "2 B    1.5198219 0.6917007  9  59 \n",
       "3 C    0.7828866 0.4864348  5 112 "
      ]
     },
     "metadata": {},
     "output_type": "display_data"
    }
   ],
   "source": [
    "SiteC$p <- SiteC$count/sum(SiteC$count) #calculating proportions of each \"species\"\n",
    "HC <- -sum(SiteC$p * log(SiteC$p)) #diversity index\n",
    "EHC <- HC/log(nrow(SiteC)) #Eveness\n",
    "MasterF[3,2:5] <- c(HC, EHC , nrow(SiteC), sum(SiteC$count))\n",
    "HC; EHC; nrow(SiteC); sum(SiteC$count)\n",
    "MasterF"
   ]
  },
  {
   "cell_type": "markdown",
   "metadata": {},
   "source": [
    "The Shannon's Diversity Index (H) is 0.783; The eveness is 0.486; The richness (S) is 5. Total number of bugs is 112, over 2 ${ft}^2$ of area."
   ]
  },
  {
   "cell_type": "markdown",
   "metadata": {},
   "source": [
    "#### Species not including functional groups"
   ]
  },
  {
   "cell_type": "code",
   "execution_count": 17,
   "metadata": {},
   "outputs": [
    {
     "data": {
      "text/html": [
       "<table>\n",
       "<thead><tr><th scope=col>Species</th><th scope=col>count</th></tr></thead>\n",
       "<tbody>\n",
       "\t<tr><td>long red worm  </td><td> 1             </td></tr>\n",
       "\t<tr><td>mayfly         </td><td>97             </td></tr>\n",
       "\t<tr><td>small grey worm</td><td> 1             </td></tr>\n",
       "\t<tr><td>stonefly       </td><td>13             </td></tr>\n",
       "</tbody>\n",
       "</table>\n"
      ],
      "text/latex": [
       "\\begin{tabular}{r|ll}\n",
       " Species & count\\\\\n",
       "\\hline\n",
       "\t long red worm   &  1             \\\\\n",
       "\t mayfly          & 97             \\\\\n",
       "\t small grey worm &  1             \\\\\n",
       "\t stonefly        & 13             \\\\\n",
       "\\end{tabular}\n"
      ],
      "text/markdown": [
       "\n",
       "| Species | count |\n",
       "|---|---|\n",
       "| long red worm   |  1              |\n",
       "| mayfly          | 97              |\n",
       "| small grey worm |  1              |\n",
       "| stonefly        | 13              |\n",
       "\n"
      ],
      "text/plain": [
       "  Species         count\n",
       "1 long red worm    1   \n",
       "2 mayfly          97   \n",
       "3 small grey worm  1   \n",
       "4 stonefly        13   "
      ]
     },
     "metadata": {},
     "output_type": "display_data"
    },
    {
     "data": {
      "text/html": [
       "TRUE"
      ],
      "text/latex": [
       "TRUE"
      ],
      "text/markdown": [
       "TRUE"
      ],
      "text/plain": [
       "[1] TRUE"
      ]
     },
     "metadata": {},
     "output_type": "display_data"
    }
   ],
   "source": [
    "Site_C <- data.frame(matrix(ncol = 2, nrow = 4)) #empty matrix\n",
    "names(Site_C) <- c(\"Species\",\"count\")\n",
    "Site_C$Species <- c(\"long red worm\",\"mayfly\",\"small grey worm\",\"stonefly\")\n",
    "Site_C$count <- c(SiteC$count[1],sum(SiteC$count[2:3]),SiteC$count[4:5]) #compile mayfly/stonefly\n",
    "Site_C #looks good\n",
    "sum(Site_C$count) == sum(SiteC$count) #must be TRUE, check everything works out"
   ]
  },
  {
   "cell_type": "code",
   "execution_count": 18,
   "metadata": {},
   "outputs": [
    {
     "data": {
      "text/html": [
       "0.458755062707344"
      ],
      "text/latex": [
       "0.458755062707344"
      ],
      "text/markdown": [
       "0.458755062707344"
      ],
      "text/plain": [
       "[1] 0.4587551"
      ]
     },
     "metadata": {},
     "output_type": "display_data"
    },
    {
     "data": {
      "text/html": [
       "0.330921826975295"
      ],
      "text/latex": [
       "0.330921826975295"
      ],
      "text/markdown": [
       "0.330921826975295"
      ],
      "text/plain": [
       "[1] 0.3309218"
      ]
     },
     "metadata": {},
     "output_type": "display_data"
    },
    {
     "data": {
      "text/html": [
       "4"
      ],
      "text/latex": [
       "4"
      ],
      "text/markdown": [
       "4"
      ],
      "text/plain": [
       "[1] 4"
      ]
     },
     "metadata": {},
     "output_type": "display_data"
    },
    {
     "data": {
      "text/html": [
       "112"
      ],
      "text/latex": [
       "112"
      ],
      "text/markdown": [
       "112"
      ],
      "text/plain": [
       "[1] 112"
      ]
     },
     "metadata": {},
     "output_type": "display_data"
    },
    {
     "data": {
      "text/html": [
       "<table>\n",
       "<thead><tr><th scope=col>Site</th><th scope=col>H</th><th scope=col>EH</th><th scope=col>S</th><th scope=col>TotN</th></tr></thead>\n",
       "<tbody>\n",
       "\t<tr><td>A        </td><td>1.3115946</td><td>0.6307437</td><td>8        </td><td>115      </td></tr>\n",
       "\t<tr><td>B        </td><td>1.4449459</td><td>0.6948721</td><td>8        </td><td> 59      </td></tr>\n",
       "\t<tr><td>C        </td><td>0.4587551</td><td>0.3309218</td><td>4        </td><td>112      </td></tr>\n",
       "</tbody>\n",
       "</table>\n"
      ],
      "text/latex": [
       "\\begin{tabular}{r|lllll}\n",
       " Site & H & EH & S & TotN\\\\\n",
       "\\hline\n",
       "\t A         & 1.3115946 & 0.6307437 & 8         & 115      \\\\\n",
       "\t B         & 1.4449459 & 0.6948721 & 8         &  59      \\\\\n",
       "\t C         & 0.4587551 & 0.3309218 & 4         & 112      \\\\\n",
       "\\end{tabular}\n"
      ],
      "text/markdown": [
       "\n",
       "| Site | H | EH | S | TotN |\n",
       "|---|---|---|---|---|\n",
       "| A         | 1.3115946 | 0.6307437 | 8         | 115       |\n",
       "| B         | 1.4449459 | 0.6948721 | 8         |  59       |\n",
       "| C         | 0.4587551 | 0.3309218 | 4         | 112       |\n",
       "\n"
      ],
      "text/plain": [
       "  Site H         EH        S TotN\n",
       "1 A    1.3115946 0.6307437 8 115 \n",
       "2 B    1.4449459 0.6948721 8  59 \n",
       "3 C    0.4587551 0.3309218 4 112 "
      ]
     },
     "metadata": {},
     "output_type": "display_data"
    }
   ],
   "source": [
    "Site_C$p <- Site_C$count/sum(Site_C$count) #calculating proportions of each \"species\"\n",
    "H_C <- -sum(Site_C$p * log(Site_C$p)) #diversity index\n",
    "EH_C <- H_C/log(nrow(Site_C)) #Eveness\n",
    "H_C; EH_C; nrow(Site_C); sum(Site_C$count)\n",
    "Master[3,2:5] <- c(H_C, EH_C , nrow(Site_C), sum(Site_C$count))\n",
    "Master"
   ]
  },
  {
   "cell_type": "markdown",
   "metadata": {},
   "source": [
    "The Shannon's Diversity Index (H) is 0.459; The eveness is 0.331; The richness (S) is 4. Total number of bugs is 112, over 2 ${ft}^2$ of area."
   ]
  },
  {
   "cell_type": "markdown",
   "metadata": {},
   "source": [
    "## Analysis of Results"
   ]
  },
  {
   "cell_type": "markdown",
   "metadata": {},
   "source": [
    "Comparison of Shannon Diversity Index using Hutcheson t-test: https://www.dataanalytics.org.uk/comparing-diversity/"
   ]
  },
  {
   "attachments": {
    "image-2.png": {
     "image/png": "[encoded data removed]"
    },
    "image-3.png": {
     "image/png": "[encoded data removed]"
    },
    "image.png": {
     "image/png": "[encoded data removed]"
    }
   },
   "cell_type": "markdown",
   "metadata": {},
   "source": [
    "![image.png](attachment:image.png)\n",
    "where\n",
    "![image-2.png](attachment:image-2.png)\n",
    "with degree of freedom (df):\n",
    "![image-3.png](attachment:image-3.png)\n",
    "Where S is species richness (total species), p is the proportion of each species, N is the total number of individuals"
   ]
  },
  {
   "cell_type": "markdown",
   "metadata": {},
   "source": [
    "**I will use the bug calculations without acoounting for function groups.**"
   ]
  },
  {
   "cell_type": "code",
   "execution_count": 19,
   "metadata": {},
   "outputs": [
    {
     "data": {
      "text/html": [
       "<table>\n",
       "<thead><tr><th scope=col>Site</th><th scope=col>H</th><th scope=col>EH</th><th scope=col>S</th><th scope=col>TotN</th></tr></thead>\n",
       "<tbody>\n",
       "\t<tr><td>A        </td><td>1.3115946</td><td>0.6307437</td><td>8        </td><td>115      </td></tr>\n",
       "\t<tr><td>B        </td><td>1.4449459</td><td>0.6948721</td><td>8        </td><td> 59      </td></tr>\n",
       "\t<tr><td>C        </td><td>0.4587551</td><td>0.3309218</td><td>4        </td><td>112      </td></tr>\n",
       "</tbody>\n",
       "</table>\n"
      ],
      "text/latex": [
       "\\begin{tabular}{r|lllll}\n",
       " Site & H & EH & S & TotN\\\\\n",
       "\\hline\n",
       "\t A         & 1.3115946 & 0.6307437 & 8         & 115      \\\\\n",
       "\t B         & 1.4449459 & 0.6948721 & 8         &  59      \\\\\n",
       "\t C         & 0.4587551 & 0.3309218 & 4         & 112      \\\\\n",
       "\\end{tabular}\n"
      ],
      "text/markdown": [
       "\n",
       "| Site | H | EH | S | TotN |\n",
       "|---|---|---|---|---|\n",
       "| A         | 1.3115946 | 0.6307437 | 8         | 115       |\n",
       "| B         | 1.4449459 | 0.6948721 | 8         |  59       |\n",
       "| C         | 0.4587551 | 0.3309218 | 4         | 112       |\n",
       "\n"
      ],
      "text/plain": [
       "  Site H         EH        S TotN\n",
       "1 A    1.3115946 0.6307437 8 115 \n",
       "2 B    1.4449459 0.6948721 8  59 \n",
       "3 C    0.4587551 0.3309218 4 112 "
      ]
     },
     "metadata": {},
     "output_type": "display_data"
    }
   ],
   "source": [
    "Master #looking it it for reference"
   ]
  },
  {
   "cell_type": "code",
   "execution_count": 20,
   "metadata": {},
   "outputs": [],
   "source": [
    "varA <- (sum(Site_A$p*(log(Site_A$p)^2)) - Master$H[1]^2)/Master$TotN[1] + (Master$S[1] - 1)/(2*Master$TotN[1]^2) #variances\n",
    "varB <- (sum(Site_B$p*(log(Site_B$p)^2)) - Master$H[2]^2)/Master$TotN[2] + (Master$S[2] - 1)/(2*Master$TotN[2]^2)\n",
    "varC <- (sum(Site_C$p*(log(Site_C$p)^2)) - Master$H[3]^2)/Master$TotN[3] + (Master$S[3] - 1)/(2*Master$TotN[3]^2)\n",
    "var <- rbind(varA,varB,varC)"
   ]
  },
  {
   "cell_type": "markdown",
   "metadata": {},
   "source": [
    "#### Comparing Site A (S. Platte blw) to Site B (S. Platte abv). Null: H_a - H_b = 0; Alternative H_a - H_b != 0. alpha = 0.05."
   ]
  },
  {
   "cell_type": "code",
   "execution_count": 21,
   "metadata": {},
   "outputs": [
    {
     "data": {
      "text/html": [
       "0.390094001157668"
      ],
      "text/latex": [
       "0.390094001157668"
      ],
      "text/markdown": [
       "0.390094001157668"
      ],
      "text/plain": [
       "[1] 0.390094"
      ]
     },
     "metadata": {},
     "output_type": "display_data"
    }
   ],
   "source": [
    "df = ((varA + varB)^2)/((varA^2)/Master$TotN[1] + (varB^2)/Master$TotN[2])\n",
    "t = (Master$H[1] - Master$H[2])/sqrt(varA + varB)\n",
    "2*(1-pt(abs(t),df)) #p-value"
   ]
  },
  {
   "cell_type": "markdown",
   "metadata": {},
   "source": [
    "P-value = 0.39, this is not smaller than alpha = 0.05. Therefore, not statistically significant. "
   ]
  },
  {
   "cell_type": "markdown",
   "metadata": {},
   "source": [
    "#### Comparing Site B (S. Platte abv) to Site C (Cherry C.). Null: H_b - H_c = 0; Alternative H_b - H_c != 0. alpha = 0.05."
   ]
  },
  {
   "cell_type": "code",
   "execution_count": 22,
   "metadata": {},
   "outputs": [
    {
     "data": {
      "text/html": [
       "7.72441843821525e-09"
      ],
      "text/latex": [
       "7.72441843821525e-09"
      ],
      "text/markdown": [
       "7.72441843821525e-09"
      ],
      "text/plain": [
       "[1] 7.724418e-09"
      ]
     },
     "metadata": {},
     "output_type": "display_data"
    }
   ],
   "source": [
    "df = ((varB + varC)^2)/((varB^2)/Master$TotN[2] + (varC^2)/Master$TotN[3])\n",
    "t = (Master$H[2] - Master$H[3])/sqrt(varB + varC)\n",
    "2*(1-pt(abs(t),df)) #p-value"
   ]
  },
  {
   "cell_type": "markdown",
   "metadata": {},
   "source": [
    "P-value = 7.72 e -09, this is smaller than alpha = 0.05. Therefore, there is statistical significance diversity between of Site B and Site C."
   ]
  },
  {
   "cell_type": "markdown",
   "metadata": {},
   "source": [
    "#### Comparing Site A (S. Platte blow) to Site C (Cherry C.). Null: H_a - H_c = 0; Alternative H_a - H_c != 0. alpha = 0.05."
   ]
  },
  {
   "cell_type": "code",
   "execution_count": 23,
   "metadata": {},
   "outputs": [
    {
     "data": {
      "text/html": [
       "1.0698109065288e-12"
      ],
      "text/latex": [
       "1.0698109065288e-12"
      ],
      "text/markdown": [
       "1.0698109065288e-12"
      ],
      "text/plain": [
       "[1] 1.069811e-12"
      ]
     },
     "metadata": {},
     "output_type": "display_data"
    }
   ],
   "source": [
    "df = ((varA + varC)^2)/((varA^2)/Master$TotN[1] + (varC^2)/Master$TotN[3])\n",
    "t = (Master$H[1] - Master$H[3])/sqrt(varA + varC)\n",
    "2*(1-pt(abs(t),df)) #p-value"
   ]
  },
  {
   "cell_type": "markdown",
   "metadata": {},
   "source": [
    "P-value = 1.07 e -12, this is smaller than alpha = 0.05. Therefore, there is statistical significance diversity between of Site A and Site C."
   ]
  },
  {
   "cell_type": "markdown",
   "metadata": {},
   "source": [
    "#### Uncertainty intervals"
   ]
  },
  {
   "cell_type": "code",
   "execution_count": 25,
   "metadata": {
    "scrolled": false
   },
   "outputs": [
    {
     "data": {
      "image/png": "[encoded data removed]",
      "text/plain": [
       "Plot with title \"95% Confidence Intervals for Shannon's Diversity Index\""
      ]
     },
     "metadata": {},
     "output_type": "display_data"
    }
   ],
   "source": [
    "Fsize = 1.5\n",
    "windowsFonts(A = windowsFont(\"Times New Roman\"))\n",
    "plot.default(c(1,2,3), Master$H, type='p', family=\"A\", xaxt = 'n', ylab = \"Shannon's Diversity Index (H)\", family=\"A\", \n",
    "            cex.lab = Fsize, cex.axis = Fsize, cex.main = 1.5, cex.sub = Fsize,\n",
    "            xlab = \"Sites\", ylim = c(0,2), main = \"95% Confidence Intervals for Shannon's Diversity Index\")\n",
    "axis(side = 1, at = c(1,2,3), labels = Master$Site, family=\"A\", cex.axis = 1.5)\n",
    "arrows(x0 = c(1,2,3), y0 = Master$H - 1.96*sqrt(var),x1 = c(1,2,3), \n",
    "       y1 = Master$H + 1.96*sqrt(var), angle = 90, code = 3, length = 0.1) #95% CI. note SE = sqrt(var/n), n = 1 for one site each"
   ]
  },
  {
   "cell_type": "markdown",
   "metadata": {},
   "source": [
    "## Plotting for Project"
   ]
  },
  {
   "cell_type": "code",
   "execution_count": 26,
   "metadata": {},
   "outputs": [],
   "source": [
    "data <- read.csv(\"project_flow.csv\")"
   ]
  },
  {
   "cell_type": "code",
   "execution_count": 27,
   "metadata": {
    "scrolled": true
   },
   "outputs": [
    {
     "data": {
      "text/html": [
       "<table>\n",
       "<thead><tr><th scope=col>X</th><th scope=col>agency_cd</th><th scope=col>datetime</th><th scope=col>tz_cd</th><th scope=col>South.Platte</th><th scope=col>Cherry.Creek</th></tr></thead>\n",
       "<tbody>\n",
       "\t<tr><td>1                  </td><td>USGS               </td><td>2021-10-08 00:00:00</td><td>MDT                </td><td>44.5               </td><td>6.49               </td></tr>\n",
       "\t<tr><td>2                  </td><td>USGS               </td><td>2021-10-08 00:15:00</td><td>MDT                </td><td>44.5               </td><td>6.49               </td></tr>\n",
       "\t<tr><td>3                  </td><td>USGS               </td><td>2021-10-08 00:30:00</td><td>MDT                </td><td>44.5               </td><td>6.49               </td></tr>\n",
       "\t<tr><td>4                  </td><td>USGS               </td><td>2021-10-08 00:45:00</td><td>MDT                </td><td>44.5               </td><td>6.49               </td></tr>\n",
       "\t<tr><td>5                  </td><td>USGS               </td><td>2021-10-08 01:00:00</td><td>MDT                </td><td>44.5               </td><td>6.49               </td></tr>\n",
       "\t<tr><td>6                  </td><td>USGS               </td><td>2021-10-08 01:15:00</td><td>MDT                </td><td>44.5               </td><td>6.49               </td></tr>\n",
       "</tbody>\n",
       "</table>\n"
      ],
      "text/latex": [
       "\\begin{tabular}{r|llllll}\n",
       " X & agency\\_cd & datetime & tz\\_cd & South.Platte & Cherry.Creek\\\\\n",
       "\\hline\n",
       "\t 1                   & USGS                & 2021-10-08 00:00:00 & MDT                 & 44.5                & 6.49               \\\\\n",
       "\t 2                   & USGS                & 2021-10-08 00:15:00 & MDT                 & 44.5                & 6.49               \\\\\n",
       "\t 3                   & USGS                & 2021-10-08 00:30:00 & MDT                 & 44.5                & 6.49               \\\\\n",
       "\t 4                   & USGS                & 2021-10-08 00:45:00 & MDT                 & 44.5                & 6.49               \\\\\n",
       "\t 5                   & USGS                & 2021-10-08 01:00:00 & MDT                 & 44.5                & 6.49               \\\\\n",
       "\t 6                   & USGS                & 2021-10-08 01:15:00 & MDT                 & 44.5                & 6.49               \\\\\n",
       "\\end{tabular}\n"
      ],
      "text/markdown": [
       "\n",
       "| X | agency_cd | datetime | tz_cd | South.Platte | Cherry.Creek |\n",
       "|---|---|---|---|---|---|\n",
       "| 1                   | USGS                | 2021-10-08 00:00:00 | MDT                 | 44.5                | 6.49                |\n",
       "| 2                   | USGS                | 2021-10-08 00:15:00 | MDT                 | 44.5                | 6.49                |\n",
       "| 3                   | USGS                | 2021-10-08 00:30:00 | MDT                 | 44.5                | 6.49                |\n",
       "| 4                   | USGS                | 2021-10-08 00:45:00 | MDT                 | 44.5                | 6.49                |\n",
       "| 5                   | USGS                | 2021-10-08 01:00:00 | MDT                 | 44.5                | 6.49                |\n",
       "| 6                   | USGS                | 2021-10-08 01:15:00 | MDT                 | 44.5                | 6.49                |\n",
       "\n"
      ],
      "text/plain": [
       "  X agency_cd datetime            tz_cd South.Platte Cherry.Creek\n",
       "1 1 USGS      2021-10-08 00:00:00 MDT   44.5         6.49        \n",
       "2 2 USGS      2021-10-08 00:15:00 MDT   44.5         6.49        \n",
       "3 3 USGS      2021-10-08 00:30:00 MDT   44.5         6.49        \n",
       "4 4 USGS      2021-10-08 00:45:00 MDT   44.5         6.49        \n",
       "5 5 USGS      2021-10-08 01:00:00 MDT   44.5         6.49        \n",
       "6 6 USGS      2021-10-08 01:15:00 MDT   44.5         6.49        "
      ]
     },
     "metadata": {},
     "output_type": "display_data"
    }
   ],
   "source": [
    "head(data) #examine data"
   ]
  },
  {
   "cell_type": "markdown",
   "metadata": {},
   "source": [
    "Now beginning a dumb way of plotting, not using tidyverse to be consistent with formatting before.More time could help simplify it down more."
   ]
  },
  {
   "cell_type": "code",
   "execution_count": 74,
   "metadata": {},
   "outputs": [
    {
     "data": {
      "text/html": [
       "1536"
      ],
      "text/latex": [
       "1536"
      ],
      "text/markdown": [
       "1536"
      ],
      "text/plain": [
       "[1] 1536"
      ]
     },
     "metadata": {},
     "output_type": "display_data"
    },
    {
     "data": {
      "text/html": [
       "96"
      ],
      "text/latex": [
       "96"
      ],
      "text/markdown": [
       "96"
      ],
      "text/plain": [
       "[1] 96"
      ]
     },
     "metadata": {},
     "output_type": "display_data"
    },
    {
     "data": {
      "text/html": [
       "<ol class=list-inline>\n",
       "\t<li>'2021-10-08'</li>\n",
       "\t<li>'2021-10-09'</li>\n",
       "\t<li>'2021-10-10'</li>\n",
       "\t<li>'2021-10-11'</li>\n",
       "\t<li>'2021-10-12'</li>\n",
       "\t<li>'2021-10-13'</li>\n",
       "\t<li>'2021-10-14'</li>\n",
       "\t<li>'2021-10-15'</li>\n",
       "\t<li>'2021-10-16'</li>\n",
       "\t<li>'2021-10-17'</li>\n",
       "\t<li>'2021-10-18'</li>\n",
       "\t<li>'2021-10-19'</li>\n",
       "\t<li>'2021-10-20'</li>\n",
       "\t<li>'2021-10-21'</li>\n",
       "\t<li>'2021-10-22'</li>\n",
       "\t<li>'2021-10-23'</li>\n",
       "</ol>\n"
      ],
      "text/latex": [
       "\\begin{enumerate*}\n",
       "\\item '2021-10-08'\n",
       "\\item '2021-10-09'\n",
       "\\item '2021-10-10'\n",
       "\\item '2021-10-11'\n",
       "\\item '2021-10-12'\n",
       "\\item '2021-10-13'\n",
       "\\item '2021-10-14'\n",
       "\\item '2021-10-15'\n",
       "\\item '2021-10-16'\n",
       "\\item '2021-10-17'\n",
       "\\item '2021-10-18'\n",
       "\\item '2021-10-19'\n",
       "\\item '2021-10-20'\n",
       "\\item '2021-10-21'\n",
       "\\item '2021-10-22'\n",
       "\\item '2021-10-23'\n",
       "\\end{enumerate*}\n"
      ],
      "text/markdown": [
       "1. '2021-10-08'\n",
       "2. '2021-10-09'\n",
       "3. '2021-10-10'\n",
       "4. '2021-10-11'\n",
       "5. '2021-10-12'\n",
       "6. '2021-10-13'\n",
       "7. '2021-10-14'\n",
       "8. '2021-10-15'\n",
       "9. '2021-10-16'\n",
       "10. '2021-10-17'\n",
       "11. '2021-10-18'\n",
       "12. '2021-10-19'\n",
       "13. '2021-10-20'\n",
       "14. '2021-10-21'\n",
       "15. '2021-10-22'\n",
       "16. '2021-10-23'\n",
       "\n",
       "\n"
      ],
      "text/plain": [
       " [1] \"2021-10-08\" \"2021-10-09\" \"2021-10-10\" \"2021-10-11\" \"2021-10-12\"\n",
       " [6] \"2021-10-13\" \"2021-10-14\" \"2021-10-15\" \"2021-10-16\" \"2021-10-17\"\n",
       "[11] \"2021-10-18\" \"2021-10-19\" \"2021-10-20\" \"2021-10-21\" \"2021-10-22\"\n",
       "[16] \"2021-10-23\""
      ]
     },
     "metadata": {},
     "output_type": "display_data"
    }
   ],
   "source": [
    "length(as.Date(data$datetime)) #total number of data points\n",
    "sum(as.Date(data$datetime) == \"2021-10-08\") #number of datasets in each date\n",
    "levels(as.factor(as.Date(data$datetime))) #all dates"
   ]
  },
  {
   "cell_type": "code",
   "execution_count": 168,
   "metadata": {},
   "outputs": [
    {
     "data": {
      "image/png": "[encoded data removed]",
      "text/plain": [
       "Plot with title \"October 2021 Hydrographs of South Platte and Cherry Creek\""
      ]
     },
     "metadata": {},
     "output_type": "display_data"
    }
   ],
   "source": [
    "dates <- c(\"Oct 08\", \"Oct 09\", \"Oct 10\", \"Oct 11\", \"Oct 12\", \"Oct 13\", \"Oct 14\", \"Oct 15\", \n",
    "           \"Oct 16\", \"Oct 17\", \"Oct 18\", \"Oct 19\", \"Oct 20\", \"Oct 21\", \"Oct 22\", \"Oct 23\", \"Oct 24\") #all the x-axis labels\n",
    "windowsFonts(A = windowsFont(\"Times New Roman\")) #use times new roman to match\n",
    "par(mar=c(4.2,5,4,3)) #making sure words fit\n",
    "plot.default(data$datetime, data$South.Platte, type = 'l', xaxt = 'n', ylim = c(0,52), col = \"darkred\", family = \"A\",\n",
    "             main = \"October 2021 Hydrographs of South Platte and Cherry Creek\", xlab = \"Date\", \n",
    "             ylab = expression(paste(\"Discharge [ft\"^\"3\"/\"s\",\"]\")),  cex.lab = Fsize, cex.axis = Fsize, cex.main = 1.5, \n",
    "             cex.sub = Fsize) \n",
    "lines(data$datetime, data$Cherry.Creek, col = \"darkblue\")\n",
    "legend(x = \"bottomright\", legend = c(\"South Platte River\", \"Cherry Creek\"), lty = 1, cex = 1.1, \n",
    "       col = c(\"darkred\", \"darkblue\"), bty = \"n\")\n",
    "axis(side = 1, at = c(data$datetime[seq(1,length(data$datetime),96)],data$datetime[length(data$datetime)]), \n",
    "     labels = dates, family=\"A\", cex.axis = 0.7)"
   ]
  }
 ],
 "metadata": {
  "kernelspec": {
   "display_name": "R",
   "language": "R",
   "name": "ir"
  },
  "language_info": {
   "codemirror_mode": "r",
   "file_extension": ".r",
   "mimetype": "text/x-r-source",
   "name": "R",
   "pygments_lexer": "r",
   "version": "3.6.1"
  }
 },
 "nbformat": 4,
 "nbformat_minor": 4
}
